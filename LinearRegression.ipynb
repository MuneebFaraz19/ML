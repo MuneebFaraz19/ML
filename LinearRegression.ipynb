{
 "cells": [
  {
   "cell_type": "code",
   "execution_count": 50,
   "id": "6c568329-9ed0-4dae-9f64-bb78e39ff578",
   "metadata": {},
   "outputs": [],
   "source": [
    "import pandas as pd\n",
    "import matplotlib as pl\n",
    "import pandas as pd"
   ]
  },
  {
   "cell_type": "code",
   "execution_count": 51,
   "id": "d75b2d1b-f4ea-4453-b715-6f86f0d7568e",
   "metadata": {},
   "outputs": [
    {
     "data": {
      "text/html": [
       "<div>\n",
       "<style scoped>\n",
       "    .dataframe tbody tr th:only-of-type {\n",
       "        vertical-align: middle;\n",
       "    }\n",
       "\n",
       "    .dataframe tbody tr th {\n",
       "        vertical-align: top;\n",
       "    }\n",
       "\n",
       "    .dataframe thead th {\n",
       "        text-align: right;\n",
       "    }\n",
       "</style>\n",
       "<table border=\"1\" class=\"dataframe\">\n",
       "  <thead>\n",
       "    <tr style=\"text-align: right;\">\n",
       "      <th></th>\n",
       "      <th>Unnamed: 0</th>\n",
       "      <th>Address</th>\n",
       "      <th>Price</th>\n",
       "      <th>NoOfBedrooms</th>\n",
       "      <th>NoOfBathrooms</th>\n",
       "      <th>AreaSqYards</th>\n",
       "    </tr>\n",
       "  </thead>\n",
       "  <tbody>\n",
       "    <tr>\n",
       "      <th>0</th>\n",
       "      <td>0</td>\n",
       "      <td>Bahria Town Karachi, Karachi</td>\n",
       "      <td>4200000.0</td>\n",
       "      <td>1.0</td>\n",
       "      <td>1.0</td>\n",
       "      <td>60</td>\n",
       "    </tr>\n",
       "    <tr>\n",
       "      <th>1</th>\n",
       "      <td>1</td>\n",
       "      <td>Bahria Town - Precinct 17, Bahria Town Karachi</td>\n",
       "      <td>5900000.0</td>\n",
       "      <td>2.0</td>\n",
       "      <td>2.0</td>\n",
       "      <td>161</td>\n",
       "    </tr>\n",
       "    <tr>\n",
       "      <th>2</th>\n",
       "      <td>2</td>\n",
       "      <td>Bahria Paradise, Bahria Town Karachi</td>\n",
       "      <td>42000000.0</td>\n",
       "      <td>5.0</td>\n",
       "      <td>5.0</td>\n",
       "      <td>500</td>\n",
       "    </tr>\n",
       "    <tr>\n",
       "      <th>3</th>\n",
       "      <td>3</td>\n",
       "      <td>Askari 5 - Sector J, Askari 5</td>\n",
       "      <td>37500000.0</td>\n",
       "      <td>3.0</td>\n",
       "      <td>3.0</td>\n",
       "      <td>300</td>\n",
       "    </tr>\n",
       "    <tr>\n",
       "      <th>4</th>\n",
       "      <td>4</td>\n",
       "      <td>Bahria Town - Precinct 35, Bahria Sports City</td>\n",
       "      <td>21000000.0</td>\n",
       "      <td>4.0</td>\n",
       "      <td>4.0</td>\n",
       "      <td>350</td>\n",
       "    </tr>\n",
       "  </tbody>\n",
       "</table>\n",
       "</div>"
      ],
      "text/plain": [
       "   Unnamed: 0                                         Address       Price   \n",
       "0           0                    Bahria Town Karachi, Karachi   4200000.0  \\\n",
       "1           1  Bahria Town - Precinct 17, Bahria Town Karachi   5900000.0   \n",
       "2           2            Bahria Paradise, Bahria Town Karachi  42000000.0   \n",
       "3           3                   Askari 5 - Sector J, Askari 5  37500000.0   \n",
       "4           4   Bahria Town - Precinct 35, Bahria Sports City  21000000.0   \n",
       "\n",
       "   NoOfBedrooms  NoOfBathrooms  AreaSqYards  \n",
       "0           1.0            1.0           60  \n",
       "1           2.0            2.0          161  \n",
       "2           5.0            5.0          500  \n",
       "3           3.0            3.0          300  \n",
       "4           4.0            4.0          350  "
      ]
     },
     "execution_count": 51,
     "metadata": {},
     "output_type": "execute_result"
    }
   ],
   "source": [
    "#load data\n",
    "data = pd.read_csv(\"/home/burhan/Downloads/Cleaned_Data.csv\")\n",
    "data.head()"
   ]
  },
  {
   "cell_type": "code",
   "execution_count": 52,
   "id": "e7a1b263-1c73-46f5-9acd-bc164029546f",
   "metadata": {},
   "outputs": [
    {
     "data": {
      "text/html": [
       "<div>\n",
       "<style scoped>\n",
       "    .dataframe tbody tr th:only-of-type {\n",
       "        vertical-align: middle;\n",
       "    }\n",
       "\n",
       "    .dataframe tbody tr th {\n",
       "        vertical-align: top;\n",
       "    }\n",
       "\n",
       "    .dataframe thead th {\n",
       "        text-align: right;\n",
       "    }\n",
       "</style>\n",
       "<table border=\"1\" class=\"dataframe\">\n",
       "  <thead>\n",
       "    <tr style=\"text-align: right;\">\n",
       "      <th></th>\n",
       "      <th>Unnamed: 0</th>\n",
       "      <th>Price</th>\n",
       "      <th>NoOfBedrooms</th>\n",
       "      <th>NoOfBathrooms</th>\n",
       "      <th>AreaSqYards</th>\n",
       "    </tr>\n",
       "  </thead>\n",
       "  <tbody>\n",
       "    <tr>\n",
       "      <th>count</th>\n",
       "      <td>16849.000000</td>\n",
       "      <td>1.684900e+04</td>\n",
       "      <td>16849.000000</td>\n",
       "      <td>16849.00000</td>\n",
       "      <td>16849.000000</td>\n",
       "    </tr>\n",
       "    <tr>\n",
       "      <th>mean</th>\n",
       "      <td>9628.345480</td>\n",
       "      <td>3.914858e+07</td>\n",
       "      <td>3.599442</td>\n",
       "      <td>3.73856</td>\n",
       "      <td>238.193958</td>\n",
       "    </tr>\n",
       "    <tr>\n",
       "      <th>std</th>\n",
       "      <td>5673.676533</td>\n",
       "      <td>3.657066e+07</td>\n",
       "      <td>1.439704</td>\n",
       "      <td>1.46110</td>\n",
       "      <td>137.991019</td>\n",
       "    </tr>\n",
       "    <tr>\n",
       "      <th>min</th>\n",
       "      <td>0.000000</td>\n",
       "      <td>7.000000e+05</td>\n",
       "      <td>1.000000</td>\n",
       "      <td>1.00000</td>\n",
       "      <td>33.000000</td>\n",
       "    </tr>\n",
       "    <tr>\n",
       "      <th>25%</th>\n",
       "      <td>4670.000000</td>\n",
       "      <td>1.350000e+07</td>\n",
       "      <td>3.000000</td>\n",
       "      <td>3.00000</td>\n",
       "      <td>122.000000</td>\n",
       "    </tr>\n",
       "    <tr>\n",
       "      <th>50%</th>\n",
       "      <td>9578.000000</td>\n",
       "      <td>2.600000e+07</td>\n",
       "      <td>3.000000</td>\n",
       "      <td>3.00000</td>\n",
       "      <td>200.000000</td>\n",
       "    </tr>\n",
       "    <tr>\n",
       "      <th>75%</th>\n",
       "      <td>14574.000000</td>\n",
       "      <td>5.800000e+07</td>\n",
       "      <td>5.000000</td>\n",
       "      <td>5.00000</td>\n",
       "      <td>311.000000</td>\n",
       "    </tr>\n",
       "    <tr>\n",
       "      <th>max</th>\n",
       "      <td>19449.000000</td>\n",
       "      <td>4.000000e+08</td>\n",
       "      <td>11.000000</td>\n",
       "      <td>10.00000</td>\n",
       "      <td>993.000000</td>\n",
       "    </tr>\n",
       "  </tbody>\n",
       "</table>\n",
       "</div>"
      ],
      "text/plain": [
       "         Unnamed: 0         Price  NoOfBedrooms  NoOfBathrooms   AreaSqYards\n",
       "count  16849.000000  1.684900e+04  16849.000000    16849.00000  16849.000000\n",
       "mean    9628.345480  3.914858e+07      3.599442        3.73856    238.193958\n",
       "std     5673.676533  3.657066e+07      1.439704        1.46110    137.991019\n",
       "min        0.000000  7.000000e+05      1.000000        1.00000     33.000000\n",
       "25%     4670.000000  1.350000e+07      3.000000        3.00000    122.000000\n",
       "50%     9578.000000  2.600000e+07      3.000000        3.00000    200.000000\n",
       "75%    14574.000000  5.800000e+07      5.000000        5.00000    311.000000\n",
       "max    19449.000000  4.000000e+08     11.000000       10.00000    993.000000"
      ]
     },
     "execution_count": 52,
     "metadata": {},
     "output_type": "execute_result"
    }
   ],
   "source": [
    "#drop address column\n",
    "data.drop([1])\n",
    "data.describe()"
   ]
  },
  {
   "cell_type": "code",
   "execution_count": 53,
   "id": "34357c69-f809-4aba-8a86-4cac6c994907",
   "metadata": {},
   "outputs": [
    {
     "data": {
      "text/plain": [
       "Unnamed: 0       0\n",
       "Address          0\n",
       "Price            0\n",
       "NoOfBedrooms     0\n",
       "NoOfBathrooms    0\n",
       "AreaSqYards      0\n",
       "dtype: int64"
      ]
     },
     "execution_count": 53,
     "metadata": {},
     "output_type": "execute_result"
    }
   ],
   "source": [
    "data.isnull().sum()"
   ]
  },
  {
   "cell_type": "code",
   "execution_count": 55,
   "id": "7830867c-63d8-4915-9cec-ffdbf430bb23",
   "metadata": {},
   "outputs": [],
   "source": [
    "x = data.iloc[:,3:]\n",
    "y = data.iloc[:,1:2]"
   ]
  },
  {
   "cell_type": "code",
   "execution_count": 60,
   "id": "7592eccc-9e51-4bf7-bd8a-7fe77354d64b",
   "metadata": {},
   "outputs": [
    {
     "name": "stdout",
     "output_type": "stream",
     "text": [
      "       NoOfBedrooms  NoOfBathrooms  AreaSqYards\n",
      "0               1.0            1.0           60\n",
      "1               2.0            2.0          161\n",
      "2               5.0            5.0          500\n",
      "3               3.0            3.0          300\n",
      "4               4.0            4.0          350\n",
      "...             ...            ...          ...\n",
      "16844           2.0            2.0           67\n",
      "16845           3.0            4.0          243\n",
      "16846           2.0            1.0           67\n",
      "16847           4.0            4.0          240\n",
      "16848           2.0            2.0          106\n",
      "\n",
      "[16849 rows x 3 columns]\n",
      "            Price\n",
      "0       4200000.0\n",
      "1       5900000.0\n",
      "2      42000000.0\n",
      "3      37500000.0\n",
      "4      21000000.0\n",
      "...           ...\n",
      "16844   4900000.0\n",
      "16845  67500000.0\n",
      "16846   4500000.0\n",
      "16847  25000000.0\n",
      "16848   8000000.0\n",
      "\n",
      "[16849 rows x 1 columns]\n"
     ]
    }
   ],
   "source": [
    "print(x)\n",
    "print(y)"
   ]
  },
  {
   "cell_type": "code",
   "execution_count": 63,
   "id": "c6da6a5b-fe23-43c5-a87e-6da82fe72a5c",
   "metadata": {},
   "outputs": [],
   "source": [
    "#train test split (70:30)\n",
    "from sklearn.model_selection import train_test_split\n",
    "x_train, x_test, y_train, y_test=train_test_split(x, y, test_size=0.3)"
   ]
  },
  {
   "cell_type": "code",
   "execution_count": 65,
   "id": "59cac807-c995-46a8-8f54-aca1c04cbe00",
   "metadata": {},
   "outputs": [],
   "source": [
    "#loading Linear Regression Model\n",
    "from sklearn.linear_model import LinearRegression\n",
    "model = LinearRegression()"
   ]
  },
  {
   "cell_type": "code",
   "execution_count": 67,
   "id": "f4ef9970-06b5-44b4-9957-94ea38325e02",
   "metadata": {},
   "outputs": [
    {
     "data": {
      "text/html": [
       "<style>#sk-container-id-2 {color: black;background-color: white;}#sk-container-id-2 pre{padding: 0;}#sk-container-id-2 div.sk-toggleable {background-color: white;}#sk-container-id-2 label.sk-toggleable__label {cursor: pointer;display: block;width: 100%;margin-bottom: 0;padding: 0.3em;box-sizing: border-box;text-align: center;}#sk-container-id-2 label.sk-toggleable__label-arrow:before {content: \"▸\";float: left;margin-right: 0.25em;color: #696969;}#sk-container-id-2 label.sk-toggleable__label-arrow:hover:before {color: black;}#sk-container-id-2 div.sk-estimator:hover label.sk-toggleable__label-arrow:before {color: black;}#sk-container-id-2 div.sk-toggleable__content {max-height: 0;max-width: 0;overflow: hidden;text-align: left;background-color: #f0f8ff;}#sk-container-id-2 div.sk-toggleable__content pre {margin: 0.2em;color: black;border-radius: 0.25em;background-color: #f0f8ff;}#sk-container-id-2 input.sk-toggleable__control:checked~div.sk-toggleable__content {max-height: 200px;max-width: 100%;overflow: auto;}#sk-container-id-2 input.sk-toggleable__control:checked~label.sk-toggleable__label-arrow:before {content: \"▾\";}#sk-container-id-2 div.sk-estimator input.sk-toggleable__control:checked~label.sk-toggleable__label {background-color: #d4ebff;}#sk-container-id-2 div.sk-label input.sk-toggleable__control:checked~label.sk-toggleable__label {background-color: #d4ebff;}#sk-container-id-2 input.sk-hidden--visually {border: 0;clip: rect(1px 1px 1px 1px);clip: rect(1px, 1px, 1px, 1px);height: 1px;margin: -1px;overflow: hidden;padding: 0;position: absolute;width: 1px;}#sk-container-id-2 div.sk-estimator {font-family: monospace;background-color: #f0f8ff;border: 1px dotted black;border-radius: 0.25em;box-sizing: border-box;margin-bottom: 0.5em;}#sk-container-id-2 div.sk-estimator:hover {background-color: #d4ebff;}#sk-container-id-2 div.sk-parallel-item::after {content: \"\";width: 100%;border-bottom: 1px solid gray;flex-grow: 1;}#sk-container-id-2 div.sk-label:hover label.sk-toggleable__label {background-color: #d4ebff;}#sk-container-id-2 div.sk-serial::before {content: \"\";position: absolute;border-left: 1px solid gray;box-sizing: border-box;top: 0;bottom: 0;left: 50%;z-index: 0;}#sk-container-id-2 div.sk-serial {display: flex;flex-direction: column;align-items: center;background-color: white;padding-right: 0.2em;padding-left: 0.2em;position: relative;}#sk-container-id-2 div.sk-item {position: relative;z-index: 1;}#sk-container-id-2 div.sk-parallel {display: flex;align-items: stretch;justify-content: center;background-color: white;position: relative;}#sk-container-id-2 div.sk-item::before, #sk-container-id-2 div.sk-parallel-item::before {content: \"\";position: absolute;border-left: 1px solid gray;box-sizing: border-box;top: 0;bottom: 0;left: 50%;z-index: -1;}#sk-container-id-2 div.sk-parallel-item {display: flex;flex-direction: column;z-index: 1;position: relative;background-color: white;}#sk-container-id-2 div.sk-parallel-item:first-child::after {align-self: flex-end;width: 50%;}#sk-container-id-2 div.sk-parallel-item:last-child::after {align-self: flex-start;width: 50%;}#sk-container-id-2 div.sk-parallel-item:only-child::after {width: 0;}#sk-container-id-2 div.sk-dashed-wrapped {border: 1px dashed gray;margin: 0 0.4em 0.5em 0.4em;box-sizing: border-box;padding-bottom: 0.4em;background-color: white;}#sk-container-id-2 div.sk-label label {font-family: monospace;font-weight: bold;display: inline-block;line-height: 1.2em;}#sk-container-id-2 div.sk-label-container {text-align: center;}#sk-container-id-2 div.sk-container {/* jupyter's `normalize.less` sets `[hidden] { display: none; }` but bootstrap.min.css set `[hidden] { display: none !important; }` so we also need the `!important` here to be able to override the default hidden behavior on the sphinx rendered scikit-learn.org. See: https://github.com/scikit-learn/scikit-learn/issues/21755 */display: inline-block !important;position: relative;}#sk-container-id-2 div.sk-text-repr-fallback {display: none;}</style><div id=\"sk-container-id-2\" class=\"sk-top-container\"><div class=\"sk-text-repr-fallback\"><pre>LinearRegression()</pre><b>In a Jupyter environment, please rerun this cell to show the HTML representation or trust the notebook. <br />On GitHub, the HTML representation is unable to render, please try loading this page with nbviewer.org.</b></div><div class=\"sk-container\" hidden><div class=\"sk-item\"><div class=\"sk-estimator sk-toggleable\"><input class=\"sk-toggleable__control sk-hidden--visually\" id=\"sk-estimator-id-2\" type=\"checkbox\" checked><label for=\"sk-estimator-id-2\" class=\"sk-toggleable__label sk-toggleable__label-arrow\">LinearRegression</label><div class=\"sk-toggleable__content\"><pre>LinearRegression()</pre></div></div></div></div></div>"
      ],
      "text/plain": [
       "LinearRegression()"
      ]
     },
     "execution_count": 67,
     "metadata": {},
     "output_type": "execute_result"
    }
   ],
   "source": [
    "model.fit(x_train,y_train)"
   ]
  },
  {
   "cell_type": "code",
   "execution_count": 68,
   "id": "095be19c-2936-40ca-8f6b-4c563bf10364",
   "metadata": {},
   "outputs": [],
   "source": [
    "predicted_result = model.predict(x_test)"
   ]
  },
  {
   "cell_type": "code",
   "execution_count": 69,
   "id": "5617a39e-7721-47e9-b675-287778215f0d",
   "metadata": {},
   "outputs": [
    {
     "name": "stdout",
     "output_type": "stream",
     "text": [
      "MSE:  432197410696602.1\n",
      "R2:  0.687370332911537\n"
     ]
    }
   ],
   "source": [
    "#importing metrics and testing \n",
    "from sklearn.metrics import mean_squared_error, r2_score\n",
    "print(\"MSE: \",mean_squared_error(y_test,predicted_result))\n",
    "print(\"R2: \",r2_score(y_test,predicted_result))"
   ]
  }
 ],
 "metadata": {
  "kernelspec": {
   "display_name": "Python 3 (ipykernel)",
   "language": "python",
   "name": "python3"
  },
  "language_info": {
   "codemirror_mode": {
    "name": "ipython",
    "version": 3
   },
   "file_extension": ".py",
   "mimetype": "text/x-python",
   "name": "python",
   "nbconvert_exporter": "python",
   "pygments_lexer": "ipython3",
   "version": "3.10.6"
  }
 },
 "nbformat": 4,
 "nbformat_minor": 5
}
